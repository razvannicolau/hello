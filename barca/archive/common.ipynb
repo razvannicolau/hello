{
 "cells": [
  {
   "cell_type": "code",
   "execution_count": 16,
   "metadata": {},
   "outputs": [],
   "source": [
    "from sklearn.base import BaseEstimator, TransformerMixin\n",
    "from sklearn.preprocessing import label_binarize\n",
    "from matplotlib import pyplot as plt\n",
    "import seaborn as sns\n",
    "import pandas as pd\n",
    "import numpy as np\n",
    "from sklearn.pipeline import Pipeline\n",
    "from sklearn.pipeline import FeatureUnion\n",
    "from sklearn.preprocessing import MultiLabelBinarizer\n",
    "import numpy.testing as test\n",
    "import warnings \n",
    "\n",
    "warnings.filterwarnings(\"ignore\", category=FutureWarning) \n",
    "\n",
    "%matplotlib inline\n",
    "\n",
    "\n",
    "class DataFrameSelector(BaseEstimator, TransformerMixin) :    \n",
    "    def __init__(self, columns):\n",
    "        self.columns=columns\n",
    "    def fit(self, X, y=None):\n",
    "        return self\n",
    "    def transform(self, X):\n",
    "        return X[self.columns].values"
   ]
  },
  {
   "cell_type": "code",
   "execution_count": 4,
   "metadata": {},
   "outputs": [],
   "source": [
    "class MultiFeatureEncoder (MultiLabelBinarizer):\n",
    "    def fit(self, X, y=None):\n",
    "        return super().fit(X)\n",
    "    def transform(self, X):\n",
    "        return X[self.columns].values\n",
    "    def fit_transform(self, X, y=None):\n",
    "        return super().fit_transform(X.astype(str))"
   ]
  },
  {
   "cell_type": "code",
   "execution_count": 174,
   "metadata": {},
   "outputs": [],
   "source": [
    "\n",
    "class NameEncoder(BaseEstimator, TransformerMixin) :    \n",
    "    def fit(self, X, y=None):\n",
    "        return self\n",
    "    def transform(self, X):\n",
    "        flop=['Master', 'Miss', 'Mrs.', 'Mr.']\n",
    "        f_b = np.zeros(X.size, dtype=bool) # initialize as false\n",
    "        print(X.shape, type(X))\n",
    "        for f in flop:\n",
    "            f1 = (np.char.find(X.iloc[:,0].astype(str), f)!=-1) # which entries contain the f key\n",
    "            X[f1]=flop.index(f) # replace with the actual index in the array string            \n",
    "            f_b = f_b | f1 # retain the matched ones\n",
    "        X[~f_b]=4 # undefined\n",
    "        return X.astype(np.int)\n",
    "    @staticmethod\n",
    "    def test():\n",
    "        nameEncoder = NameEncoder()\n",
    "        res = nameEncoder.fit_transform(np.array([['Master Jimmy'], ['Mrs. Smith'], ['Mr. Smith']]))\n",
    "        test.assert_array_equal(res, [[0],[2],[3]])\n"
   ]
  },
  {
   "cell_type": "code",
   "execution_count": 8,
   "metadata": {},
   "outputs": [],
   "source": [
    "# age imputer expects an 2D array having on the first column\n",
    "# the encoded name 0,1,2,3,4 and on the second column the age\n",
    "class AgeImputer(BaseEstimator, TransformerMixin) :        \n",
    "    # fit will calculate the averages per encoded name\n",
    "    def fit(self, X, y=None):\n",
    "        self.titleAgeDictionary = {}\n",
    "        for key in np.arange(0, 5):\n",
    "            try: # just to make sure for unit tests add a try/catch\n",
    "                self.titleAgeDictionary[key] = np.nanmedian(X[X[:,0] == key][1])\n",
    "            except:\n",
    "                pass\n",
    "        return self\n",
    "\n",
    "    def transform(self, X, y=None):        \n",
    "        for key in self.titleAgeDictionary.keys():\n",
    "            X[(X[:,0] == key) & (np.isnan(X[:,1])),1]=self.titleAgeDictionary[key]\n",
    "        return X\n",
    "\n",
    "    def test(self):\n",
    "        X=np.array([[1,12],\n",
    "          [2,12],\n",
    "          [1, np.NaN]])\n",
    "        res = self.fit_transform(X)\n"
   ]
  },
  {
   "cell_type": "code",
   "execution_count": 162,
   "metadata": {},
   "outputs": [],
   "source": [
    "class IdentityTransformer(BaseEstimator, TransformerMixin) : \n",
    "    def fit(self, X, y=None):\n",
    "        return self\n",
    "    def transform(self, X, y=None):\n",
    "        print(type(X))\n",
    "        print(X.shape)\n",
    "        return X.values"
   ]
  },
  {
   "cell_type": "code",
   "execution_count": 191,
   "metadata": {},
   "outputs": [
    {
     "data": {
      "text/plain": [
       "False"
      ]
     },
     "execution_count": 191,
     "metadata": {},
     "output_type": "execute_result"
    }
   ],
   "source": [
    "from sklearn.preprocessing import FunctionTransformer, StandardScaler, Normalizer, OneHotEncoder\n",
    "from sklearn.pipeline import make_pipeline, make_union\n",
    "from sklearn.compose import ColumnTransformer, make_column_transformer\n",
    "import inspect\n",
    "\n",
    "# read the dataframe\n",
    "df = pd.read_csv('train.csv')\n",
    "\n",
    "def hasCabin(x):\n",
    "    return np.apply_along_axis(lambda t : 0 if ( t != t) else 1 ,arr=x ,axis=1)\n",
    "\n",
    "\n",
    "#t = make_column_transformer((['Name'], NameEncoder()))\n",
    "# t = make_column_transformer((['Sex'], OneHotEncoder(sparse=False)))\n",
    "# t = make_pipeline (DataFrameSelector(['Name']),  NameEncoder())\n",
    "\n",
    "#x = t.fit_transform(df)\n",
    "#x\n",
    "\n",
    "# cd = ColumnTransformer([('test', NameEncoder(), ['Name'])] );\n",
    "\n",
    "# x = cd.fit_transform(df)\n",
    "x = np.arange(10)\n",
    "hasattr(x, 'iloc')"
   ]
  },
  {
   "cell_type": "code",
   "execution_count": 168,
   "metadata": {},
   "outputs": [
    {
     "data": {
      "text/plain": [
       "pandas.core.frame.DataFrame"
      ]
     },
     "execution_count": 168,
     "metadata": {},
     "output_type": "execute_result"
    }
   ],
   "source": [
    "\n",
    "# encode the name, join the age, fine median of age per name title, \n",
    "# apply the median ages for missing age entries\n",
    "nameAgePipeLine = make_pipeline( \n",
    "                    # join encoded name and age columns\n",
    "                    make_union( # select name column and encode name based on title\n",
    "                        make_pipeline (\n",
    "                            DataFrameSelector(['Name']), NameEncoder()), \n",
    "                            # fillup age based on name title medians\n",
    "                        DataFrameSelector(['Age']),\n",
    "                        make_column_transformer((['Sex','Embarked','Pclass'], OneHotEncoder(sparse=False))) ), \n",
    "                    # fill in the age where missing\n",
    "                    AgeImputer())\n",
    "#encode Sex, Embarked and Pclass\n",
    "# catEncoderPipeline = make_pipeline( DataFrameSelector([\"Sex\",\"Embarked\",\"Pclass\"]), MultiFeatureEncoder() )\n",
    "# encode cabin 1,2,3\n",
    " \n",
    "src = inspect.getsource(ColumnTransformer)\n",
    "# print(src)\n",
    "d1 = df.loc[:,['Name']]\n",
    "type(d1)"
   ]
  }
 ],
 "metadata": {
  "kernelspec": {
   "display_name": "Python 3",
   "language": "python",
   "name": "python3"
  },
  "language_info": {
   "codemirror_mode": {
    "name": "ipython",
    "version": 3
   },
   "file_extension": ".py",
   "mimetype": "text/x-python",
   "name": "python",
   "nbconvert_exporter": "python",
   "pygments_lexer": "ipython3",
   "version": "3.7.0"
  }
 },
 "nbformat": 4,
 "nbformat_minor": 2
}
