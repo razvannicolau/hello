{
 "cells": [
  {
   "cell_type": "code",
   "execution_count": 12,
   "metadata": {},
   "outputs": [],
   "source": [
    "from sklearn.base import BaseEstimator, TransformerMixin\n",
    "\n",
    "class DataFrameSelector(BaseEstimator, TransformerMixin) :    \n",
    "    def __init__(self, columns):\n",
    "        self.columns=columns\n",
    "    def fit(self, X, y=None):\n",
    "        return self\n",
    "    def transform(self, X):\n",
    "        return X[self.columns].values\n"
   ]
  },
  {
   "cell_type": "code",
   "execution_count": null,
   "metadata": {},
   "outputs": [],
   "source": [
    "class AgeImputer(BaseEstimator, TransformerMixin) :\n",
    "    titleAgeDictionary={'Master':0, 'Miss':0, 'Mr.':0, 'Mrs':0}\n",
    "        \n",
    "    def fit(self, X, y=None):\n",
    "        for key in self.titleAgeDictionary.keys():\n",
    "            self.titleAgeDictionary[key] = df[(df['Name'].str.contains(key))][\"Age\"].median()\n",
    "            \n",
    "        self.titleAgeDictionary['any'] = df['Age'].median()        \n",
    "        return self\n",
    "    \n",
    "    def findAge(self, r) :\n",
    "        if (r['Age'] > 0):\n",
    "            return r\n",
    "        for key in self.titleAgeDictionary.keys():\n",
    "            if (r['Name'].find(key) != -1):\n",
    "                r[\"Age\"]=self.titleAgeDictionary[key]\n",
    "                return r;\n",
    "        r['Age'] = self.titleAgeDictionary['any']\n",
    "        return r\n",
    "        \n",
    "    def transform(self, X, y=None):        \n",
    "        return X.apply(self.findAge, axis=1)\n",
    "        "
   ]
  },
  {
   "cell_type": "code",
   "execution_count": 50,
   "metadata": {},
   "outputs": [
    {
     "ename": "TypeError",
     "evalue": "argument of type 'float' is not iterable",
     "output_type": "error",
     "traceback": [
      "\u001b[1;31m---------------------------------------------------------------------------\u001b[0m",
      "\u001b[1;31mTypeError\u001b[0m                                 Traceback (most recent call last)",
      "\u001b[1;32m<ipython-input-50-20d81f81f59c>\u001b[0m in \u001b[0;36m<module>\u001b[1;34m()\u001b[0m\n\u001b[0;32m     16\u001b[0m \u001b[1;33m\u001b[0m\u001b[0m\n\u001b[0;32m     17\u001b[0m \u001b[0mx\u001b[0m \u001b[1;33m=\u001b[0m \u001b[0mr\u001b[0m\u001b[1;33m[\u001b[0m\u001b[0mnp\u001b[0m\u001b[1;33m.\u001b[0m\u001b[0mwhere\u001b[0m\u001b[1;33m(\u001b[0m\u001b[1;34m'Miss'\u001b[0m \u001b[1;32min\u001b[0m \u001b[0mr\u001b[0m\u001b[1;33m[\u001b[0m\u001b[1;36m1\u001b[0m\u001b[1;33m]\u001b[0m\u001b[1;33m)\u001b[0m\u001b[1;33m]\u001b[0m\u001b[1;33m\u001b[0m\u001b[0m\n\u001b[1;32m---> 18\u001b[1;33m \u001b[1;34m'John'\u001b[0m \u001b[1;32min\u001b[0m \u001b[0mr\u001b[0m\u001b[1;33m[\u001b[0m\u001b[1;36m1\u001b[0m\u001b[1;33m,\u001b[0m\u001b[1;36m1\u001b[0m\u001b[1;33m]\u001b[0m\u001b[1;33m\u001b[0m\u001b[0m\n\u001b[0m\u001b[0;32m     19\u001b[0m \u001b[1;33m\u001b[0m\u001b[0m\n",
      "\u001b[1;31mTypeError\u001b[0m: argument of type 'float' is not iterable"
     ]
    }
   ],
   "source": [
    "#test\n",
    "from matplotlib import pyplot as plt\n",
    "import seaborn as sns\n",
    "import pandas as pd\n",
    "import numpy as np\n",
    "\n",
    "%matplotlib inline\n",
    "\n",
    "# read the dataframe\n",
    "df = pd.read_csv('train.csv')\n",
    "f = lambda x : 0 if ( x != x) else 1;\n",
    "df['Cabin'] = df['Cabin'].apply(f)\n",
    "\n",
    "dfSelector = DataFrameSelector(['Name', 'Age'])\n",
    "r = dfSelector.fit_transform(df)\n",
    "\n",
    "x = r[np.where('Miss' in r[1])]\n",
    "\n",
    "\n",
    "\n"
   ]
  },
  {
   "cell_type": "code",
   "execution_count": 172,
   "metadata": {},
   "outputs": [
    {
     "name": "stdout",
     "output_type": "stream",
     "text": [
      "[['alpha' '1']\n",
      " ['alpha' '2']\n",
      " ['beta' '1']]\n"
     ]
    },
    {
     "data": {
      "text/plain": [
       "1.5"
      ]
     },
     "execution_count": 172,
     "metadata": {},
     "output_type": "execute_result"
    }
   ],
   "source": [
    "def f(x):\n",
    "    print(x)\n",
    "    return False\n",
    "\n",
    "x = np.array([['alpha', 1], \n",
    "             ['alpha', 2],\n",
    "             ['beta', 1]])\n",
    "print(x)\n",
    "y = x[np.char.find(x[:,0], 'alp') != -1][:,1]\n",
    "\n",
    "y.astype(np.float).mean()\n",
    "\n"
   ]
  }
 ],
 "metadata": {
  "kernelspec": {
   "display_name": "Python 3",
   "language": "python",
   "name": "python3"
  },
  "language_info": {
   "codemirror_mode": {
    "name": "ipython",
    "version": 3
   },
   "file_extension": ".py",
   "mimetype": "text/x-python",
   "name": "python",
   "nbconvert_exporter": "python",
   "pygments_lexer": "ipython3",
   "version": "3.7.0"
  }
 },
 "nbformat": 4,
 "nbformat_minor": 2
}
