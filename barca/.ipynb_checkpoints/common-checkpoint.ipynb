{
 "cells": [
  {
   "cell_type": "code",
   "execution_count": 68,
   "metadata": {},
   "outputs": [],
   "source": [
    "from sklearn.base import BaseEstimator, TransformerMixin\n",
    "from sklearn.preprocessing import label_binarize\n",
    "from matplotlib import pyplot as plt\n",
    "import seaborn as sns\n",
    "import pandas as pd\n",
    "import numpy as np\n",
    "from sklearn.pipeline import Pipeline\n",
    "from sklearn.pipeline import FeatureUnion\n",
    "from sklearn.preprocessing import MultiLabelBinarizer\n",
    "import numpy.testing as test\n",
    "import warnings \n",
    "\n",
    "warnings.filterwarnings(\"ignore\", category=FutureWarning) \n",
    "\n",
    "%matplotlib inline\n",
    "\n",
    "\n",
    "class DataFrameSelector(BaseEstimator, TransformerMixin) :    \n",
    "    def __init__(self, columns):\n",
    "        self.columns=columns\n",
    "    def fit(self, X, y=None):\n",
    "        return self\n",
    "    def transform(self, X):\n",
    "        return X[self.columns].values"
   ]
  },
  {
   "cell_type": "code",
   "execution_count": 67,
   "metadata": {},
   "outputs": [],
   "source": [
    "class MultiFeatureEncoder (MultiLabelBinarizer):\n",
    "    def fit(self, X, y=None):\n",
    "        return super().fit(X)\n",
    "    def transform(self, X):\n",
    "        return X[self.columns].values\n",
    "    def fit_transform(self, X, y=None):\n",
    "        return super().fit_transform(X.astype(str))"
   ]
  },
  {
   "cell_type": "code",
   "execution_count": 66,
   "metadata": {},
   "outputs": [],
   "source": [
    "\n",
    "class NameEncoder(BaseEstimator, TransformerMixin) :    \n",
    "    def fit(self, X, y=None):\n",
    "        return self\n",
    "    def transform(self, X):\n",
    "        flop=['Master', 'Miss', 'Mrs.', 'Mr.']\n",
    "        f_b = np.zeros(X.size, dtype=bool) # initialize as false\n",
    "        for f in flop:\n",
    "            f1 = (np.char.find(X[:,0].astype(str), f)!=-1) # which entries contain the f key\n",
    "            X[f1]=flop.index(f) # replace with the actual index in the array string            \n",
    "            f_b = f_b | f1 # retain the matched ones\n",
    "        X[~f_b]=4 # undefined\n",
    "        return X.astype(np.int)\n",
    "    @staticmethod\n",
    "    def test():\n",
    "        nameEncoder = NameEncoder()\n",
    "        res = nameEncoder.fit_transform(np.array([['Master Jimmy'], ['Mrs. Smith'], ['Mr. Smith']]))\n",
    "        test.assert_array_equal(res, [[0],[2],[3]])\n"
   ]
  },
  {
   "cell_type": "code",
   "execution_count": 65,
   "metadata": {},
   "outputs": [],
   "source": [
    "# age imputer expects an 2D array having on the first column\n",
    "# the encoded name 0,1,2,3,4 and on the second column the age\n",
    "class AgeImputer(BaseEstimator, TransformerMixin) :        \n",
    "    # fit will calculate the averages per encoded name\n",
    "    def fit(self, X, y=None):\n",
    "        self.titleAgeDictionary = {}\n",
    "        for key in np.arange(0, 5):\n",
    "            try: # just to make sure for unit tests add a try/catch\n",
    "                self.titleAgeDictionary[key] = np.nanmedian(X[X[:,0] == key][1])\n",
    "            except:\n",
    "                pass\n",
    "        return self\n",
    "\n",
    "    def transform(self, X, y=None):        \n",
    "        for key in self.titleAgeDictionary.keys():\n",
    "            X[(X[:,0] == key) & (np.isnan(X[:,1])),1]=self.titleAgeDictionary[key]\n",
    "        return X\n",
    "\n",
    "    def test(self):\n",
    "        X=np.array([[1,12],\n",
    "          [2,12],\n",
    "          [1, np.NaN]])\n",
    "        res = self.fit_transform(X)\n"
   ]
  },
  {
   "cell_type": "code",
   "execution_count": 92,
   "metadata": {},
   "outputs": [
    {
     "name": "stdout",
     "output_type": "stream",
     "text": [
      "(891, 14)\n"
     ]
    },
    {
     "data": {
      "text/plain": [
       "array([[ 3.        , -0.53037664,  0.        , ..., -0.91071735,\n",
       "         1.        ,  0.        ],\n",
       "       [ 2.        ,  0.57183099,  1.        , ...,  1.36961644,\n",
       "         1.        ,  0.        ],\n",
       "       [ 1.        , -0.25482473,  1.        , ..., -0.82190397,\n",
       "         0.        ,  0.        ],\n",
       "       ...,\n",
       "       [ 1.        , -0.38518011,  1.        , ...,  0.26041593,\n",
       "         1.        ,  2.        ],\n",
       "       [ 3.        , -0.25482473,  0.        , ...,  0.50616874,\n",
       "         0.        ,  0.        ],\n",
       "       [ 3.        ,  0.15850313,  0.        , ..., -0.8441814 ,\n",
       "         0.        ,  0.        ]])"
      ]
     },
     "execution_count": 92,
     "metadata": {},
     "output_type": "execute_result"
    }
   ],
   "source": [
    "from sklearn.preprocessing import FunctionTransformer, StandardScaler, Normalizer, OneHotEncoder\n",
    "from sklearn.impute import SimpleImputer\n",
    "from sklearn.pipeline import make_pipeline, make_union\n",
    "from sklearn.compose import ColumnTransformer, make_column_transformer\n",
    "\n",
    "# read the dataframe\n",
    "df = pd.read_csv('train.csv')\n",
    "\n",
    "def hasCabin(x):\n",
    "    return np.apply_along_axis(lambda t : 0 if ( t != t) else 1 ,arr=x ,axis=1)\n",
    "\n",
    "pipeline = make_column_transformer(\n",
    "    (['Name', 'Age'], make_pipeline(\n",
    "                        make_union(\n",
    "                            make_pipeline(DataFrameSelector(['Name']), NameEncoder()),\n",
    "                            make_pipeline(DataFrameSelector(['Age']), StandardScaler()) ), # union\n",
    "                       AgeImputer() ) # pipeline age\n",
    "    ), #tuple\n",
    "    (['Sex', 'Pclass'], OneHotEncoder(sparse=False)),\n",
    "    (['Embarked'], make_pipeline( SimpleImputer( strategy='constant', fill_value='U' ), OneHotEncoder(sparse=False))), \n",
    "    (['Fare'], make_pipeline( SimpleImputer(strategy='mean'), FunctionTransformer( lambda x : np.log2(x, where=x>0)), StandardScaler() )),\n",
    "    (['PassengerId', 'Survived'], 'drop'),\n",
    "    (['SibSp', 'Parch'], 'passthrough')\n",
    "    )\n",
    "\n",
    "x = pipeline.fit_transform(df)\n",
    "print(x.shape)\n",
    "x\n",
    " "
   ]
  },
  {
   "cell_type": "code",
   "execution_count": null,
   "metadata": {},
   "outputs": [],
   "source": []
  }
 ],
 "metadata": {
  "kernelspec": {
   "display_name": "Python 3",
   "language": "python",
   "name": "python3"
  },
  "language_info": {
   "codemirror_mode": {
    "name": "ipython",
    "version": 3
   },
   "file_extension": ".py",
   "mimetype": "text/x-python",
   "name": "python",
   "nbconvert_exporter": "python",
   "pygments_lexer": "ipython3",
   "version": "3.6.4"
  }
 },
 "nbformat": 4,
 "nbformat_minor": 2
}
